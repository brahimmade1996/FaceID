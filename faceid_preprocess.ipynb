{
 "cells": [
  {
   "cell_type": "markdown",
   "metadata": {},
   "source": [
    "# Preprocess FaceID dataset"
   ]
  },
  {
   "cell_type": "code",
   "execution_count": null,
   "metadata": {},
   "outputs": [],
   "source": [
    "import os, sys, shutil, requests, zipfile, io\n",
    "import numpy as np\n",
    "import torch\n",
    "import matplotlib.pyplot as plt\n",
    "from tqdm import tqdm as pbar\n",
    "from PIL import Image \n",
    "sys.path.insert(0, '/home/huy/Projects/FaceID')"
   ]
  },
  {
   "cell_type": "code",
   "execution_count": null,
   "metadata": {},
   "outputs": [],
   "source": [
    "data_dir = '/raid/data/pytorch_dataset/faceid/'"
   ]
  },
  {
   "cell_type": "markdown",
   "metadata": {},
   "source": [
    "## 1. Download data"
   ]
  },
  {
   "cell_type": "markdown",
   "metadata": {},
   "source": [
    "Dataset link\n",
    "http://www.vap.aau.dk/rgb-d-face-database/"
   ]
  },
  {
   "cell_type": "code",
   "execution_count": null,
   "metadata": {},
   "outputs": [],
   "source": [
    "train_list=['http://vap.aau.dk/wp-content/uploads/VAPRBGD/(2012-05-16)(151751).zip',\n",
    " 'http://vap.aau.dk/wp-content/uploads/VAPRBGD/(2012-05-16)(153054).zip',\n",
    " 'http://vap.aau.dk/wp-content/uploads/VAPRBGD/(2012-05-16)(154211).zip',\n",
    " 'http://vap.aau.dk/wp-content/uploads/VAPRBGD/(2012-05-16)(160440).zip',\n",
    " 'http://vap.aau.dk/wp-content/uploads/VAPRBGD/(2012-05-16)(160931).zip',\n",
    " 'http://vap.aau.dk/wp-content/uploads/VAPRBGD/(2012-05-16)(161342).zip',\n",
    " 'http://vap.aau.dk/wp-content/uploads/VAPRBGD/(2012-05-16)(163349).zip',\n",
    " 'http://vap.aau.dk/wp-content/uploads/VAPRBGD/(2012-05-16)(164248).zip',\n",
    " 'http://vap.aau.dk/wp-content/uploads/VAPRBGD/(2012-05-17)(141550).zip',\n",
    " 'http://vap.aau.dk/wp-content/uploads/VAPRBGD/(2012-05-17)(142154).zip',\n",
    " 'http://vap.aau.dk/wp-content/uploads/VAPRBGD/(2012-05-17)(142457).zip',\n",
    " 'http://vap.aau.dk/wp-content/uploads/VAPRBGD/(2012-05-17)(143016).zip',\n",
    " 'http://vap.aau.dk/wp-content/uploads/VAPRBGD/(2012-05-18)(132824).zip',\n",
    " 'http://vap.aau.dk/wp-content/uploads/VAPRBGD/(2012-05-18)(133201).zip',\n",
    " 'http://vap.aau.dk/wp-content/uploads/VAPRBGD/(2012-05-18)(133846).zip',\n",
    " 'http://vap.aau.dk/wp-content/uploads/VAPRBGD/(2012-05-18)(134239).zip',\n",
    " 'http://vap.aau.dk/wp-content/uploads/VAPRBGD/(2012-05-18)(134757).zip',\n",
    " 'http://vap.aau.dk/wp-content/uploads/VAPRBGD/(2012-05-18)(140516).zip',\n",
    " 'http://vap.aau.dk/wp-content/uploads/VAPRBGD/(2012-05-18)(143345).zip',\n",
    " 'http://vap.aau.dk/wp-content/uploads/VAPRBGD/(2012-05-18)(144316).zip',\n",
    " 'http://vap.aau.dk/wp-content/uploads/VAPRBGD/(2012-05-18)(145150).zip',\n",
    " 'http://vap.aau.dk/wp-content/uploads/VAPRBGD/(2012-05-18)(145623).zip',\n",
    " 'http://vap.aau.dk/wp-content/uploads/VAPRBGD/(2012-05-18)(150303).zip',\n",
    " 'http://vap.aau.dk/wp-content/uploads/VAPRBGD/(2012-05-18)(150650).zip',\n",
    " 'http://vap.aau.dk/wp-content/uploads/VAPRBGD/(2012-05-18)(151337).zip',\n",
    " 'http://vap.aau.dk/wp-content/uploads/VAPRBGD/(2012-05-18)(151650).zip']\n",
    "\n",
    "val_list=['http://vap.aau.dk/wp-content/uploads/VAPRBGD/(2012-05-18)(152717).zip',\n",
    " 'http://vap.aau.dk/wp-content/uploads/VAPRBGD/(2012-05-18)(153532).zip',\n",
    " 'http://vap.aau.dk/wp-content/uploads/VAPRBGD/(2012-05-18)(154129).zip',\n",
    " 'http://vap.aau.dk/wp-content/uploads/VAPRBGD/(2012-05-18)(154728).zip',\n",
    " 'http://vap.aau.dk/wp-content/uploads/VAPRBGD/(2012-05-18)(155357).zip']"
   ]
  },
  {
   "cell_type": "code",
   "execution_count": null,
   "metadata": {},
   "outputs": [],
   "source": [
    "def get_data(links, directory):\n",
    "    \"\"\"\n",
    "    Download and unzip data\n",
    "    \"\"\"\n",
    "    for link in pbar(links):\n",
    "        r = requests.get(link, stream=True)\n",
    "        z = zipfile.ZipFile(io.BytesIO(r.content))\n",
    "        z.extractall(directory)"
   ]
  },
  {
   "cell_type": "code",
   "execution_count": null,
   "metadata": {},
   "outputs": [],
   "source": [
    "get_data(train_list, 'train_raw')\n",
    "get_data(val_list, 'val_raw')"
   ]
  },
  {
   "cell_type": "markdown",
   "metadata": {},
   "source": [
    "## 2. Process data"
   ]
  },
  {
   "cell_type": "code",
   "execution_count": null,
   "metadata": {},
   "outputs": [],
   "source": [
    "def process_data(raw_dir, processed_dir):\n",
    "    \"\"\"\n",
    "    Stack RGB and D images to a tensor of shape 4 x 640 x 480\n",
    "    Save images in format of personID_poseID\n",
    "    Print the mean and std of whole dataset\n",
    "    \"\"\"\n",
    "    mean = np.array([0, 0, 0, 0])\n",
    "    std = np.array([0, 0, 0, 0])\n",
    "    counter = 0\n",
    "    \n",
    "    all_people = [x for x in os.listdir(raw_dir) if '2012' in x]\n",
    "    for person_id, a_person in enumerate(pbar(all_people)):\n",
    "        \n",
    "        all_poses = [x for x in os.listdir(os.path.join(raw_dir, a_person)) if '.bmp' in x]\n",
    "        for pose_id, a_pose in enumerate(all_poses):\n",
    "            photo_id = a_pose[:-5] # drop 'c.bmp'\n",
    "\n",
    "            photo_rgb = photo_id + 'c.bmp'\n",
    "            photo_rgb = Image.open(os.path.join(raw_dir, a_person, photo_rgb))\n",
    "            photo_rgb = np.array(photo_rgb.convert(\"RGB\").resize((640, 480)))\n",
    "            photo_rgb = torch.from_numpy(photo_rgb).float()\n",
    "\n",
    "            photo_depth = photo_id + 'd.dat'\n",
    "            photo_depth = np.loadtxt(os.path.join(raw_dir, a_person, photo_depth))\n",
    "            \n",
    "            # Valid range is from 400 to 3000\n",
    "            temp = np.copy(photo_depth)\n",
    "            photo_depth = np.where((temp > 400) & (temp < 3000), temp, 0)\n",
    "            \n",
    "            photo_depth = torch.from_numpy(photo_depth).float()\n",
    "            rgbd = torch.cat((photo_rgb, photo_depth.unsqueeze(-1)), -1)\n",
    "            \n",
    "            # PyTorch format is C x H x W\n",
    "            rgbd = rgbd.permute(2, 0, 1)\n",
    "            \n",
    "            name = 'person' + str(person_id) + '_pose' + str(pose_id) + '.pt'\n",
    "            torch.save(rgbd, os.path.join(processed_dir, name))\n",
    "            \n",
    "            # Calculate mean and std\n",
    "            counter += 1\n",
    "            for i in range(4):\n",
    "                mean[i] += rgbd[i].mean()\n",
    "                std[i] += rgbd[i].std()\n",
    "                \n",
    "    print(\"Mean: \", mean/counter)\n",
    "    print(\"STD: \", std/counter)"
   ]
  },
  {
   "cell_type": "code",
   "execution_count": null,
   "metadata": {},
   "outputs": [],
   "source": [
    "os.mkdir('train')\n",
    "process_data('train_raw', 'train')\n",
    "\n",
    "os.mkdir('val')\n",
    "process_data('val_raw', 'val')"
   ]
  },
  {
   "cell_type": "markdown",
   "metadata": {},
   "source": [
    "- mean = [128.994, 124.5943, 118.2353, 353.8612]\n",
    "- std = [54.2986, 50.1938, 43.5121, 702.629]"
   ]
  },
  {
   "cell_type": "code",
   "execution_count": null,
   "metadata": {},
   "outputs": [],
   "source": [
    "# Move data to desire place\n",
    "os.mkdir(data_dir)\n",
    "shutil.move('train_raw', data_dir)\n",
    "shutil.move('val_raw', data_dir)\n",
    "shutil.move('train', data_dir)\n",
    "shutil.move('val', data_dir)"
   ]
  },
  {
   "cell_type": "markdown",
   "metadata": {},
   "source": [
    "## 3. Display a test RGBD image"
   ]
  },
  {
   "cell_type": "code",
   "execution_count": null,
   "metadata": {},
   "outputs": [],
   "source": [
    "test_img_path = os.path.join(data_dir, 'train/person1_pose0.pt')\n",
    "test_img = torch.load(test_img_path)\n",
    "test_img = test_img.permute(1, 2, 0)"
   ]
  },
  {
   "cell_type": "code",
   "execution_count": null,
   "metadata": {},
   "outputs": [],
   "source": [
    "plt.imshow(test_img[:,:,:3]/255.0)\n",
    "plt.show()"
   ]
  },
  {
   "cell_type": "code",
   "execution_count": null,
   "metadata": {},
   "outputs": [],
   "source": [
    "plt.imshow(test_img[:,:,-1], cmap='jet')\n",
    "plt.show()"
   ]
  },
  {
   "cell_type": "code",
   "execution_count": null,
   "metadata": {},
   "outputs": [],
   "source": []
  }
 ],
 "metadata": {
  "kernelspec": {
   "display_name": "Python [conda env:huy_base] *",
   "language": "python",
   "name": "conda-env-huy_base-py"
  },
  "language_info": {
   "codemirror_mode": {
    "name": "ipython",
    "version": 3
   },
   "file_extension": ".py",
   "mimetype": "text/x-python",
   "name": "python",
   "nbconvert_exporter": "python",
   "pygments_lexer": "ipython3",
   "version": "3.7.7"
  }
 },
 "nbformat": 4,
 "nbformat_minor": 4
}
